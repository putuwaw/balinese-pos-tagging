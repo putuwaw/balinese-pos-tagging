{
  "cells": [
    {
      "cell_type": "code",
      "execution_count": null,
      "metadata": {
        "colab": {
          "base_uri": "https://localhost:8080/"
        },
        "id": "BrOXwsqE2g58",
        "outputId": "f4994f53-3516-48ab-f5cb-bff26766ac07"
      },
      "outputs": [
        {
          "name": "stdout",
          "output_type": "stream",
          "text": [
            "Mounted at /content/drive\n",
            "Collecting sklearn-crfsuite\n",
            "  Downloading sklearn_crfsuite-0.5.0-py2.py3-none-any.whl.metadata (4.9 kB)\n",
            "Collecting python-crfsuite>=0.9.7 (from sklearn-crfsuite)\n",
            "  Downloading python_crfsuite-0.9.11-cp311-cp311-manylinux_2_17_x86_64.manylinux2014_x86_64.whl.metadata (4.3 kB)\n",
            "Requirement already satisfied: scikit-learn>=0.24.0 in /usr/local/lib/python3.11/dist-packages (from sklearn-crfsuite) (1.6.0)\n",
            "Requirement already satisfied: tabulate>=0.4.2 in /usr/local/lib/python3.11/dist-packages (from sklearn-crfsuite) (0.9.0)\n",
            "Requirement already satisfied: tqdm>=2.0 in /usr/local/lib/python3.11/dist-packages (from sklearn-crfsuite) (4.67.1)\n",
            "Requirement already satisfied: numpy>=1.19.5 in /usr/local/lib/python3.11/dist-packages (from scikit-learn>=0.24.0->sklearn-crfsuite) (1.26.4)\n",
            "Requirement already satisfied: scipy>=1.6.0 in /usr/local/lib/python3.11/dist-packages (from scikit-learn>=0.24.0->sklearn-crfsuite) (1.13.1)\n",
            "Requirement already satisfied: joblib>=1.2.0 in /usr/local/lib/python3.11/dist-packages (from scikit-learn>=0.24.0->sklearn-crfsuite) (1.4.2)\n",
            "Requirement already satisfied: threadpoolctl>=3.1.0 in /usr/local/lib/python3.11/dist-packages (from scikit-learn>=0.24.0->sklearn-crfsuite) (3.5.0)\n",
            "Downloading sklearn_crfsuite-0.5.0-py2.py3-none-any.whl (10 kB)\n",
            "Downloading python_crfsuite-0.9.11-cp311-cp311-manylinux_2_17_x86_64.manylinux2014_x86_64.whl (1.3 MB)\n",
            "\u001b[2K   \u001b[90m━━━━━━━━━━━━━━━━━━━━━━━━━━━━━━━━━━━━━━━━\u001b[0m \u001b[32m1.3/1.3 MB\u001b[0m \u001b[31m19.7 MB/s\u001b[0m eta \u001b[36m0:00:00\u001b[0m\n",
            "\u001b[?25hInstalling collected packages: python-crfsuite, sklearn-crfsuite\n",
            "Successfully installed python-crfsuite-0.9.11 sklearn-crfsuite-0.5.0\n"
          ]
        },
        {
          "name": "stderr",
          "output_type": "stream",
          "text": [
            "[nltk_data] Downloading package treebank to /root/nltk_data...\n",
            "[nltk_data]   Unzipping corpora/treebank.zip.\n"
          ]
        }
      ],
      "source": [
        "from google.colab import drive\n",
        "drive.mount('/content/drive')\n",
        "import nltk\n",
        "!pip install sklearn-crfsuite\n",
        "import sklearn_crfsuite\n",
        "from sklearn_crfsuite import metrics\n",
        "nltk.download('treebank')\n",
        "corpus_tutorial = nltk.corpus.treebank.tagged_sents()\n",
        "import pandas as pd\n",
        "import ast\n",
        "import nltk\n",
        "from sklearn.model_selection import train_test_split\n",
        "from sklearn_crfsuite import metrics\n",
        "import sklearn_crfsuite"
      ]
    },
    {
      "cell_type": "code",
      "execution_count": null,
      "metadata": {
        "colab": {
          "base_uri": "https://localhost:8080/"
        },
        "id": "Nptx-ZW_40Cf",
        "outputId": "0066b17f-10aa-4a2d-f40e-5794597eb7bf"
      },
      "outputs": [
        {
          "name": "stdout",
          "output_type": "stream",
          "text": [
            "[[('Pan', 'PropN'), ('Karsa', 'PropN'), ('ajaka', 'Prep'), ('pianakne', 'Verb'), ('muani', 'Noun'), ('nanggap', 'Noun'), ('upah', 'Part'), ('ngae', 'Verb'), ('semer', 'Noun'), ('di', 'Prep'), ('sisin', 'Noun'), ('rurunge', 'Part'), ('gede', 'Adj')], [('Uli', 'Prep'), ('semeng', 'Noun'), ('maka', 'Noun'), ('sanja', 'Noun'), ('ia', 'Pronoun'), ('ajaka', 'Prep'), ('dadua', 'Num'), ('tusing', 'Adj'), ('mareren', 'Adj'), ('magae', 'Verb'), ('sajawaning', 'Noun'), ('di', 'Prep'), ('nuju', 'Noun'), ('madaarne', 'Noun')], [('Kenehne', 'Noun'), ('apang', 'Prep'), ('gegaene', 'Verb'), ('enggal', 'Noun'), ('pragat', 'Part'), ('tur', 'Prep'), ('lantas', 'Adj'), ('nampi', 'Verb'), ('upahne', 'Noun')], [('Telung', 'Noun'), ('dina', 'Part'), ('ia', 'Pronoun'), ('magae', 'Verb'), ('tan', 'Adj'), ('parerenan', 'Verb'), ('semere', 'Noun'), ('suba', 'Adj'), ('dalem', 'Part'), ('ngantiang', 'Verb'), ('pragat', 'Noun')], [('Kendelne', 'Det'), ('tara', 'PropN'), ('bakat', 'PropN'), ('ban', 'PropN'), ('nuturang', 'Verb')]]\n"
          ]
        }
      ],
      "source": [
        "import pandas as pd\n",
        "import ast\n",
        "\n",
        "df = pd.read_csv('/content/drive/MyDrive/Datasets/dataset.csv')\n",
        "corpus = []\n",
        "for tagged_text in df['tagged_text']:\n",
        "    tagged_sentence = ast.literal_eval(tagged_text)\n",
        "    corpus.append(tagged_sentence)\n",
        "\n",
        "print(corpus[:5])"
      ]
    },
    {
      "cell_type": "code",
      "execution_count": null,
      "metadata": {
        "colab": {
          "base_uri": "https://localhost:8080/"
        },
        "id": "BvbrFeCmjqY9",
        "outputId": "5d9dc09e-24f9-45f8-b61d-4468aece1b3a"
      },
      "outputs": [
        {
          "name": "stdout",
          "output_type": "stream",
          "text": [
            "Number of distinct words: 12902\n"
          ]
        }
      ],
      "source": [
        "all_words = [word for sentence in corpus for word, tag in sentence]\n",
        "\n",
        "distinct_words = set(all_words)\n",
        "\n",
        "print(f\"Number of distinct words: {len(distinct_words)}\")"
      ]
    },
    {
      "cell_type": "code",
      "execution_count": null,
      "metadata": {
        "colab": {
          "base_uri": "https://localhost:8080/"
        },
        "id": "i9nwA16yz81j",
        "outputId": "526fcf53-a008-4959-9d0b-984f3d5cc9f7"
      },
      "outputs": [
        {
          "name": "stdout",
          "output_type": "stream",
          "text": [
            "Training model dengan c1=0.01, c2=0.01...\n",
            "Accuracy untuk c1=0.01, c2=0.01: 0.8763\n",
            "Model baru disimpan dengan akurasi terbaik: 0.8763\n",
            "Training model dengan c1=0.01, c2=0.1...\n",
            "Accuracy untuk c1=0.01, c2=0.1: 0.8750\n",
            "Training model dengan c1=0.01, c2=1.0...\n",
            "Accuracy untuk c1=0.01, c2=1.0: 0.8630\n",
            "Training model dengan c1=0.1, c2=0.01...\n",
            "Accuracy untuk c1=0.1, c2=0.01: 0.8980\n",
            "Model baru disimpan dengan akurasi terbaik: 0.8980\n",
            "Training model dengan c1=0.1, c2=0.1...\n",
            "Accuracy untuk c1=0.1, c2=0.1: 0.8831\n",
            "Training model dengan c1=0.1, c2=1.0...\n",
            "Accuracy untuk c1=0.1, c2=1.0: 0.8640\n",
            "Training model dengan c1=1.0, c2=0.01...\n",
            "Accuracy untuk c1=1.0, c2=0.01: 0.9104\n",
            "Model baru disimpan dengan akurasi terbaik: 0.9104\n",
            "Training model dengan c1=1.0, c2=0.1...\n",
            "Accuracy untuk c1=1.0, c2=0.1: 0.8962\n",
            "Training model dengan c1=1.0, c2=1.0...\n",
            "Accuracy untuk c1=1.0, c2=1.0: 0.8615\n",
            "\n",
            "Model terbaik menggunakan c1=1.0, c2=0.01 dengan akurasi: 0.9104\n"
          ]
        }
      ],
      "source": [
        "import nltk\n",
        "from sklearn.model_selection import train_test_split\n",
        "from sklearn_crfsuite import metrics\n",
        "import sklearn_crfsuite\n",
        "import joblib\n",
        "import matplotlib.pyplot as plt\n",
        "import numpy as np\n",
        "from nltk.translate.bleu_score import sentence_bleu\n",
        "import pandas as pd\n",
        "import ast\n",
        "\n",
        "# Load dataset\n",
        "df = pd.read_csv('/content/drive/MyDrive/Datasets/dataset.csv')\n",
        "corpus = []\n",
        "for tagged_text in df['tagged_text']:\n",
        "    tagged_sentence = ast.literal_eval(tagged_text)\n",
        "    corpus.append(tagged_sentence)\n",
        "\n",
        "# Fungsi untuk menghitung fitur per kata\n",
        "def word_features(sentence, i):\n",
        "    word = sentence[i][0]\n",
        "    features = {\n",
        "        'word': word,\n",
        "        'is_first': i == 0,\n",
        "        'is_last': i == len(sentence) - 1,\n",
        "        'is_capitalized': word[0].upper() == word[0],\n",
        "        'is_all_caps': word.upper() == word,\n",
        "        'is_all_lower': word.lower() == word,\n",
        "        'prefix-1': word[0],\n",
        "        'prefix-2': word[:2],\n",
        "        'prefix-3': word[:3],\n",
        "        'suffix-1': word[-1],\n",
        "        'suffix-2': word[-2:],\n",
        "        'suffix-3': word[-3:],\n",
        "        'prev_word': '' if i == 0 else sentence[i-1][0],\n",
        "        'next_word': '' if i == len(sentence)-1 else sentence[i+1][0],\n",
        "        'has_hyphen': '-' in word,\n",
        "        'is_numeric': word.isdigit(),\n",
        "        'capitals_inside': word[1:].lower() != word[1:],\n",
        "        'word_shape': ''.join(['X' if c.isupper() else 'x' if c.islower() else 'd' if c.isdigit() else '-' for c in word]),\n",
        "        'prev_word_is_capitalized': '' if i == 0 else sentence[i-1][0][0].isupper(),\n",
        "    }\n",
        "    return features\n",
        "\n",
        "# Membuat dataset fitur dan label\n",
        "X = [[word_features(sentence, i) for i in range(len(sentence))] for sentence in corpus]\n",
        "y = [[tag for _, tag in sentence] for sentence in corpus]\n",
        "\n",
        "# Membagi data menjadi data latih dan data uji\n",
        "X_train, X_test, y_train, y_test = train_test_split(X, y, test_size=0.2, random_state=42)\n",
        "\n",
        "# Parameter yang akan diuji\n",
        "c1_values = [0.01, 0.1, 1.0]\n",
        "c2_values = [0.01, 0.1, 1.0]\n",
        "\n",
        "best_crf = None\n",
        "best_accuracy = 0.0\n",
        "results = []\n",
        "\n",
        "# Loop melalui berbagai kombinasi parameter\n",
        "for c1 in c1_values:\n",
        "    for c2 in c2_values:\n",
        "        print(f\"Training model dengan c1={c1}, c2={c2}...\")\n",
        "\n",
        "        crf = sklearn_crfsuite.CRF(\n",
        "            algorithm='lbfgs',\n",
        "            c1=c1,\n",
        "            c2=c2,\n",
        "            max_iterations=100,\n",
        "            all_possible_transitions=True\n",
        "        )\n",
        "\n",
        "        crf.fit(X_train, y_train)\n",
        "\n",
        "        y_pred = crf.predict(X_test)\n",
        "\n",
        "        accuracy = metrics.flat_accuracy_score(y_test, y_pred)\n",
        "        print(f\"Accuracy untuk c1={c1}, c2={c2}: {accuracy:.4f}\")\n",
        "\n",
        "        results.append((c1, c2, accuracy))\n",
        "\n",
        "        # Simpan model terbaik\n",
        "        if accuracy > best_accuracy:\n",
        "            best_accuracy = accuracy\n",
        "            best_crf = crf\n",
        "            joblib.dump(best_crf, \"best_crf_model.pkl\")\n",
        "            print(f\"Model baru disimpan dengan akurasi terbaik: {best_accuracy:.4f}\")\n",
        "\n",
        "print(f\"\\nModel terbaik menggunakan c1={best_crf.c1}, c2={best_crf.c2} dengan akurasi: {best_accuracy:.4f}\")\n",
        "\n"
      ]
    },
    {
      "cell_type": "code",
      "execution_count": null,
      "metadata": {
        "colab": {
          "base_uri": "https://localhost:8080/"
        },
        "id": "QuZB1XTg0I-o",
        "outputId": "442ca146-0a8c-4c3e-ad9c-ba12b2d260a3"
      },
      "outputs": [
        {
          "name": "stdout",
          "output_type": "stream",
          "text": [
            "\n",
            "Classification Report:\n",
            "              precision    recall  f1-score   support\n",
            "\n",
            "         Adj     0.9129    0.8339    0.8716      1433\n",
            "         Det     0.9687    0.9580    0.9633      1001\n",
            "        Noun     0.8577    0.8784    0.8680      4935\n",
            "         Num     0.8529    0.7073    0.7733        41\n",
            "        Part     0.7849    0.8069    0.7958      2325\n",
            "        Prep     0.9515    0.9137    0.9322      1611\n",
            "     Pronoun     0.9320    0.8960    0.9137      1010\n",
            "       PropN     0.7461    0.8066    0.7752      1122\n",
            "        Verb     0.8470    0.8377    0.8423      2723\n",
            "\n",
            "    accuracy                         0.8615     16201\n",
            "   macro avg     0.8727    0.8487    0.8595     16201\n",
            "weighted avg     0.8634    0.8615    0.8621     16201\n",
            "\n",
            "\n",
            "Average BLEU Score: 0.7056\n"
          ]
        },
        {
          "name": "stderr",
          "output_type": "stream",
          "text": [
            "/usr/local/lib/python3.11/dist-packages/nltk/translate/bleu_score.py:577: UserWarning: \n",
            "The hypothesis contains 0 counts of 4-gram overlaps.\n",
            "Therefore the BLEU score evaluates to 0, independently of\n",
            "how many N-gram overlaps of lower order it contains.\n",
            "Consider using lower n-gram order or use SmoothingFunction()\n",
            "  warnings.warn(_msg)\n",
            "/usr/local/lib/python3.11/dist-packages/nltk/translate/bleu_score.py:577: UserWarning: \n",
            "The hypothesis contains 0 counts of 3-gram overlaps.\n",
            "Therefore the BLEU score evaluates to 0, independently of\n",
            "how many N-gram overlaps of lower order it contains.\n",
            "Consider using lower n-gram order or use SmoothingFunction()\n",
            "  warnings.warn(_msg)\n",
            "/usr/local/lib/python3.11/dist-packages/nltk/translate/bleu_score.py:577: UserWarning: \n",
            "The hypothesis contains 0 counts of 2-gram overlaps.\n",
            "Therefore the BLEU score evaluates to 0, independently of\n",
            "how many N-gram overlaps of lower order it contains.\n",
            "Consider using lower n-gram order or use SmoothingFunction()\n",
            "  warnings.warn(_msg)\n"
          ]
        }
      ],
      "source": [
        "# Evaluasi tambahan\n",
        "classification_report = metrics.flat_classification_report(y_test, y_pred, digits=4)\n",
        "print(\"\\nClassification Report:\")\n",
        "print(classification_report)\n",
        "\n",
        "# Evaluasi dengan BLEU\n",
        "bleu_scores = []\n",
        "for true, pred in zip(y_test, y_pred):\n",
        "    bleu_scores.append(sentence_bleu([true], pred))\n",
        "\n",
        "average_bleu = sum(bleu_scores) / len(bleu_scores)\n",
        "print(f\"\\nAverage BLEU Score: {average_bleu:.4f}\")"
      ]
    },
    {
      "cell_type": "code",
      "execution_count": null,
      "metadata": {
        "colab": {
          "base_uri": "https://localhost:8080/",
          "height": 564
        },
        "id": "zU_zzXh10LJg",
        "outputId": "842f11c6-e8b7-4981-9612-37b6d74e393b"
      },
      "outputs": [
        {
          "data": {
            "image/png": "[encoded data removed]",
            "text/plain": [
              "<Figure size 800x600 with 2 Axes>"
            ]
          },
          "metadata": {},
          "output_type": "display_data"
        }
      ],
      "source": [
        "# Visualisasi pengaruh parameter C1 dan C2\n",
        "c1_vals, c2_vals, accuracies = zip(*results)\n",
        "plt.figure(figsize=(8, 6))\n",
        "scatter = plt.scatter(np.log10(c1_vals), np.log10(c2_vals), c=accuracies, cmap='viridis', s=100)\n",
        "plt.colorbar(scatter, label=\"Accuracy\")\n",
        "plt.xlabel(\"log(C1)\")\n",
        "plt.ylabel(\"log(C2)\")\n",
        "plt.title(\"Accuracy vs C1 & C2\")\n",
        "plt.show()\n"
      ]
    },
    {
      "cell_type": "code",
      "execution_count": null,
      "metadata": {
        "colab": {
          "base_uri": "https://localhost:8080/",
          "height": 889
        },
        "id": "z4vVHq7n3yTu",
        "outputId": "d6f2b900-9aca-4ddf-eb67-8d06ba864551"
      },
      "outputs": [
        {
          "name": "stdout",
          "output_type": "stream",
          "text": [
            "\n",
            "Top 10 fitur paling berpengaruh:\n",
            "word: 0.5299\n",
            "capitals_inside: 0.3341\n",
            "is_all_caps: 0.2630\n",
            "is_last: -0.2470\n",
            "prefix-3: 0.2123\n",
            "suffix-3: 0.2021\n",
            "prev_word: 0.1324\n",
            "next_word: 0.1258\n",
            "prefix-2: 0.1254\n",
            "suffix-2: 0.0976\n",
            "\n",
            "Top 10 fitur yang paling tidak berpengaruh:\n",
            "prefix-2: 0.1254\n",
            "suffix-2: 0.0976\n",
            "is_capitalized: -0.0976\n",
            "word_shape: 0.0735\n",
            "prefix-1: 0.0598\n",
            "has_hyphen: -0.0578\n",
            "is_first: 0.0303\n",
            "is_all_lower: 0.0299\n",
            "suffix-1: 0.0245\n",
            "prev_word_is_capitalized: 0.0031\n"
          ]
        },
        {
          "data": {
            "image/png": "[encoded data removed]",
            "text/plain": [
              "<Figure size 640x480 with 1 Axes>"
            ]
          },
          "metadata": {},
          "output_type": "display_data"
        }
      ],
      "source": [
        "from collections import defaultdict\n",
        "\n",
        "def print_feature_importance_grouped(crf_model):\n",
        "    feature_weights = crf_model.state_features_\n",
        "\n",
        "    grouped_weights = defaultdict(list)\n",
        "    for (feature_name, _), weight in feature_weights.items():\n",
        "        feature_type = feature_name.split(\":\")[0]  \n",
        "        grouped_weights[feature_type].append(weight)\n",
        "\n",
        "    avg_weights = {feature: sum(weights) / len(weights) for feature, weights in grouped_weights.items()}\n",
        "\n",
        "    sorted_avg_weights = sorted(avg_weights.items(), key=lambda x: abs(x[1]), reverse=True)\n",
        "\n",
        "    print(\"\\nTop 10 fitur paling berpengaruh:\")\n",
        "    for feature, weight in sorted_avg_weights[:10]:\n",
        "        print(f\"{feature}: {weight:.4f}\")\n",
        "    print(\"\\nTop 10 fitur yang paling tidak berpengaruh:\")\n",
        "    for feature, weight in sorted_avg_weights[-10:]:\n",
        "        print(f\"{feature}: {weight:.4f}\")\n",
        "\n",
        "    top_features = [f[0] for f in sorted_avg_weights[:10]]\n",
        "    top_weights = [f[1] for f in sorted_avg_weights[:10]]\n",
        "\n",
        "    plt.barh(range(len(top_features)), top_weights, color='green')\n",
        "    plt.yticks(range(len(top_features)), top_features)\n",
        "    plt.xlabel(\"Average Weight\")\n",
        "    plt.title(\"Top 10 Grouped Influential Features\")\n",
        "    plt.gca().invert_yaxis()\n",
        "    plt.show()\n",
        "\n",
        "print_feature_importance_grouped(crf)"
      ]
    },
    {
      "cell_type": "code",
      "execution_count": null,
      "metadata": {
        "colab": {
          "base_uri": "https://localhost:8080/",
          "height": 211
        },
        "id": "72KOVE7X5X64",
        "outputId": "2327181d-6f8c-4607-c4d9-bb0b5f96813e"
      },
      "outputs": [],
      "source": [
        "import joblib\n",
        "import nltk\n",
        "# Load the trained CRF model\n",
        "crf = joblib.load('best_crf_model.pkl')\n",
        "\n",
        "def word_features(sentence, i):\n",
        "    word = sentence[i]\n",
        "    features = {\n",
        "        'word': word,\n",
        "        'is_first': i == 0,\n",
        "        'is_last': i == len(sentence) - 1,\n",
        "        'is_capitalized': word[0].upper() == word[0],\n",
        "        'is_all_caps': word.upper() == word,\n",
        "        'is_all_lower': word.lower() == word,\n",
        "        'prefix-1': word[0],\n",
        "        'prefix-2': word[:2],\n",
        "        'prefix-3': word[:3],\n",
        "        'suffix-1': word[-1],\n",
        "        'suffix-2': word[-2:],\n",
        "        'suffix-3': word[-3:],\n",
        "        'prev_word': '' if i == 0 else sentence[i-1],\n",
        "        'next_word': '' if i == len(sentence) - 1 else sentence[i+1],\n",
        "        'has_hyphen': '-' in word,\n",
        "        'is_numeric': word.isdigit(),\n",
        "        'capitals_inside': word[1:].lower() != word[1:]\n",
        "    }\n",
        "    return features\n",
        "\n",
        "nltk.download('punkt_tab')"
      ]
    },
    {
      "cell_type": "code",
      "execution_count": null,
      "metadata": {
        "colab": {
          "base_uri": "https://localhost:8080/",
          "height": 193
        },
        "id": "noQsMU5q-jJB",
        "outputId": "3d3d95ae-b2e9-4be2-86e2-20342995fc8f"
      },
      "outputs": [],
      "source": [
        "def predict_sentence_tags(crf_model, sentence):\n",
        "    words = nltk.word_tokenize(sentence)\n",
        "    features = [word_features(words, i) for i in range(len(words))]\n",
        "    predicted_tags = crf_model.predict([features])[0]\n",
        "    return list(zip(words, predicted_tags))\n",
        "\n",
        "\n",
        "new_sentence = \"Pan Karsa neked di tukad desa\"\n",
        "predicted_tags = predict_sentence_tags(crf, new_sentence)\n",
        "print(predicted_tags)"
      ]
    },
    {
      "cell_type": "markdown",
      "metadata": {
        "id": "HVaBLUQ97RKm"
      },
      "source": [
        "WITH K-Fold Cross Validation"
      ]
    },
    {
      "cell_type": "code",
      "execution_count": null,
      "metadata": {
        "colab": {
          "base_uri": "https://localhost:8080/"
        },
        "id": "WP16iirx7B0G",
        "outputId": "88d6ff92-0011-447e-d13a-ca50ddeeb512"
      },
      "outputs": [
        {
          "name": "stdout",
          "output_type": "stream",
          "text": [
            "\n",
            "Training model dengan c1=0.01, c2=0.01...\n",
            "Rata-rata Akurasi untuk c1=0.01, c2=0.01: 0.8793\n",
            "Model baru disimpan dengan akurasi terbaik: 0.8793\n",
            "\n",
            "Training model dengan c1=0.01, c2=0.1...\n",
            "Rata-rata Akurasi untuk c1=0.01, c2=0.1: 0.8782\n",
            "\n",
            "Training model dengan c1=0.01, c2=1.0...\n",
            "Rata-rata Akurasi untuk c1=0.01, c2=1.0: 0.8615\n",
            "\n",
            "Training model dengan c1=0.1, c2=0.01...\n",
            "Rata-rata Akurasi untuk c1=0.1, c2=0.01: 0.8994\n",
            "Model baru disimpan dengan akurasi terbaik: 0.8994\n",
            "\n",
            "Training model dengan c1=0.1, c2=0.1...\n",
            "Rata-rata Akurasi untuk c1=0.1, c2=0.1: 0.8857\n",
            "\n",
            "Training model dengan c1=0.1, c2=1.0...\n",
            "Rata-rata Akurasi untuk c1=0.1, c2=1.0: 0.8624\n",
            "\n",
            "Training model dengan c1=1.0, c2=0.01...\n",
            "Rata-rata Akurasi untuk c1=1.0, c2=0.01: 0.9060\n",
            "Model baru disimpan dengan akurasi terbaik: 0.9060\n",
            "\n",
            "Training model dengan c1=1.0, c2=0.1...\n",
            "Rata-rata Akurasi untuk c1=1.0, c2=0.1: 0.8946\n",
            "\n",
            "Training model dengan c1=1.0, c2=1.0...\n",
            "Rata-rata Akurasi untuk c1=1.0, c2=1.0: 0.8590\n",
            "\n",
            "Model terbaik ditemukan dengan parameter:\n",
            "c1=1.0, c2=0.01 dengan akurasi terbaik: 0.9060\n"
          ]
        }
      ],
      "source": [
        "import nltk\n",
        "from sklearn.model_selection import train_test_split, KFold\n",
        "from sklearn_crfsuite import metrics\n",
        "import sklearn_crfsuite\n",
        "import joblib\n",
        "import numpy as np\n",
        "\n",
        "\n",
        "def word_features(sentence, i):\n",
        "    word = sentence[i][0]\n",
        "    features = {\n",
        "        'word': word,\n",
        "        'is_first': i == 0,\n",
        "        'is_last': i == len(sentence) - 1,\n",
        "        'is_capitalized': word[0].upper() == word[0],\n",
        "        'is_all_caps': word.upper() == word,\n",
        "        'is_all_lower': word.lower() == word,\n",
        "        'prefix-1': word[0],\n",
        "        'prefix-2': word[:2],\n",
        "        'prefix-3': word[:3],\n",
        "        'suffix-1': word[-1],\n",
        "        'suffix-2': word[-2:],\n",
        "        'suffix-3': word[-3:],\n",
        "        'prev_word': '' if i == 0 else sentence[i-1][0],\n",
        "        'next_word': '' if i == len(sentence)-1 else sentence[i+1][0],\n",
        "        'has_hyphen': '-' in word,\n",
        "        'is_numeric': word.isdigit(),\n",
        "        'capitals_inside': word[1:].lower() != word[1:],\n",
        "        'word_shape': ''.join(['X' if c.isupper() else 'x' if c.islower() else 'd' if c.isdigit() else '-' for c in word]),\n",
        "        'prev_word_is_capitalized': '' if i == 0 else sentence[i-1][0][0].isupper(),\n",
        "    }\n",
        "    return features\n",
        "\n",
        "\n",
        "\n",
        "X = [[word_features(sentence, i) for i in range(len(sentence))] for sentence in corpus]\n",
        "y = [[tag for _, tag in sentence] for sentence in corpus]\n",
        "\n",
        "c1_values = [0.01, 0.1, 1.0]\n",
        "c2_values = [0.01, 0.1, 1.0]\n",
        "\n",
        "best_crf = None\n",
        "best_accuracy = 0.0\n",
        "\n",
        "# K-Fold Cross-Validation\n",
        "kf = KFold(n_splits=5, shuffle=True, random_state=42)\n",
        "\n",
        "\n",
        "for c1 in c1_values:\n",
        "    for c2 in c2_values:\n",
        "        print(f\"\\nTraining model dengan c1={c1}, c2={c2}...\")\n",
        "\n",
        "        fold_accuracies = []\n",
        "\n",
        "        for train_index, val_index in kf.split(X):\n",
        "            X_train, X_val = [X[i] for i in train_index], [X[i] for i in val_index]\n",
        "            y_train, y_val = [y[i] for i in train_index], [y[i] for i in val_index]\n",
        "\n",
        "            crf = sklearn_crfsuite.CRF(\n",
        "                algorithm='lbfgs',\n",
        "                c1=c1,\n",
        "                c2=c2,\n",
        "                max_iterations=100,\n",
        "                all_possible_transitions=True\n",
        "            )\n",
        "\n",
        "            crf.fit(X_train, y_train)\n",
        "\n",
        "            y_pred = crf.predict(X_val)\n",
        "\n",
        "            accuracy = metrics.flat_accuracy_score(y_val, y_pred)\n",
        "            fold_accuracies.append(accuracy)\n",
        "\n",
        "        avg_accuracy = np.mean(fold_accuracies)\n",
        "        print(f\"Rata-rata Akurasi untuk c1={c1}, c2={c2}: {avg_accuracy:.4f}\")\n",
        "\n",
        "        if avg_accuracy > best_accuracy:\n",
        "            best_accuracy = avg_accuracy\n",
        "            best_crf = crf\n",
        "            joblib.dump(best_crf, \"best_crf_model.pkl\")\n",
        "            print(f\"Model baru disimpan dengan akurasi terbaik: {best_accuracy:.4f}\")\n",
        "\n",
        "print(f\"\\nModel terbaik ditemukan dengan parameter:\")\n",
        "print(f\"c1={best_crf.c1}, c2={best_crf.c2} dengan akurasi terbaik: {best_accuracy:.4f}\")\n"
      ]
    }
  ],
  "metadata": {
    "colab": {
      "provenance": []
    },
    "kernelspec": {
      "display_name": "Python 3",
      "name": "python3"
    },
    "language_info": {
      "name": "python"
    }
  },
  "nbformat": 4,
  "nbformat_minor": 0
}
